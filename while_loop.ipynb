{
 "cells": [
  {
   "cell_type": "code",
   "execution_count": 3,
   "metadata": {},
   "outputs": [
    {
     "name": "stdout",
     "output_type": "stream",
     "text": [
      "0\n",
      "1\n",
      "2\n",
      "3\n",
      "4\n",
      "You Are Done: n = 5\n"
     ]
    }
   ],
   "source": [
    "n = 0\n",
    "while n < 5:\n",
    "    print(n)\n",
    "    n = n + 1\n",
    "print('You Are Done: n =', n)"
   ]
  },
  {
   "cell_type": "code",
   "execution_count": 4,
   "metadata": {},
   "outputs": [
    {
     "name": "stdout",
     "output_type": "stream",
     "text": [
      "This will always be printed\n",
      "Boom!\n"
     ]
    }
   ],
   "source": [
    "while True:\n",
    "    print(\"This will always be printed\")\n",
    "    break\n",
    "    print(\"This will not be printed\")\n",
    "print(\"Boom!\")"
   ]
  },
  {
   "cell_type": "code",
   "execution_count": 5,
   "metadata": {},
   "outputs": [
    {
     "name": "stdout",
     "output_type": "stream",
     "text": [
      "2\n",
      "4\n",
      "6\n",
      "8\n",
      "10\n",
      "12\n",
      "14\n",
      "Done! X = 15\n"
     ]
    }
   ],
   "source": [
    "x = 2\n",
    "while x < 15:\n",
    "    if x % 2 == 0:\n",
    "        print(x)\n",
    "        x += 1\n",
    "        continue\n",
    "    x += 1\n",
    "print(\"Done! X = \" + str(x))"
   ]
  },
  {
   "cell_type": "code",
   "execution_count": 8,
   "metadata": {},
   "outputs": [
    {
     "name": "stdout",
     "output_type": "stream",
     "text": [
      "Please enter a number 6\n",
      "Please enter a number 3\n",
      "Please enter a number done\n",
      "[6, 3]\n",
      "4.5\n"
     ]
    }
   ],
   "source": [
    "list_1=[]\n",
    "while True:\n",
    "    x= input('Please enter a number ' )\n",
    "    if x.lower() == 'done' :break\n",
    "    list_1.append(int(x))\n",
    "print(list_1)\n",
    "print(sum(list_1)/len(list_1))"
   ]
  },
  {
   "cell_type": "code",
   "execution_count": 9,
   "metadata": {},
   "outputs": [
    {
     "name": "stdout",
     "output_type": "stream",
     "text": [
      "Please enter a number 9\n",
      "Please enter a number 6\n",
      "Please enter a number done\n",
      "[9, 6]\n",
      "7.5\n"
     ]
    }
   ],
   "source": [
    "list_1=[]\n",
    "while True:\n",
    "    x= input('Please enter a number ' )\n",
    "    if x.lower() == 'done' :break\n",
    "    elif x.isdigit():\n",
    "        list_1.append(int(x))\n",
    "    else: continue\n",
    "print(list_1)\n",
    "print(sum(list_1)/len(list_1))"
   ]
  },
  {
   "cell_type": "code",
   "execution_count": 21,
   "metadata": {},
   "outputs": [
    {
     "name": "stdout",
     "output_type": "stream",
     "text": [
      "Please enter a number 8\n",
      "Please enter a number 6\n",
      "Please enter a number 9\n",
      "Please enter a number Bye\n",
      "7.5\n"
     ]
    }
   ],
   "source": [
    "list_1=[]\n",
    "while True:\n",
    "    x= input('Please enter a number ' )\n",
    "    if x.isalpha() :break\n",
    "    list_1.append(int(x))\n",
    "print(sum(list_1)/len(list_1))"
   ]
  },
  {
   "cell_type": "code",
   "execution_count": 24,
   "metadata": {},
   "outputs": [
    {
     "name": "stdout",
     "output_type": "stream",
     "text": [
      "True\n"
     ]
    }
   ],
   "source": [
    "print(\"9\".isdigit())"
   ]
  },
  {
   "cell_type": "code",
   "execution_count": 3,
   "metadata": {},
   "outputs": [
    {
     "name": "stdout",
     "output_type": "stream",
     "text": [
      "1 , 5\n",
      "2 , 6\n",
      "3 , 7\n"
     ]
    }
   ],
   "source": [
    "i = 1\n",
    "j = 5\n",
    "while i < 4:\n",
    "    while j < 8:\n",
    "        print(i, \",\", j)\n",
    "        j = j + 1\n",
    "        i = i + 1"
   ]
  },
  {
   "cell_type": "code",
   "execution_count": null,
   "metadata": {},
   "outputs": [],
   "source": [
    "1 , 5\n",
    "2 , 6\n",
    "3 , 7"
   ]
  }
 ],
 "metadata": {
  "kernelspec": {
   "display_name": "Python 3",
   "language": "python",
   "name": "python3"
  },
  "language_info": {
   "codemirror_mode": {
    "name": "ipython",
    "version": 3
   },
   "file_extension": ".py",
   "mimetype": "text/x-python",
   "name": "python",
   "nbconvert_exporter": "python",
   "pygments_lexer": "ipython3",
   "version": "3.7.4"
  }
 },
 "nbformat": 4,
 "nbformat_minor": 2
}
